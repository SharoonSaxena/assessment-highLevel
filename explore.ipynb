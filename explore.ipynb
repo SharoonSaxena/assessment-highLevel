{
 "cells": [
  {
   "cell_type": "markdown",
   "metadata": {},
   "source": [
    "### Data Science Assignment\n",
    "**Objective**\n",
    "\n",
    "* Develop a model to predict the 'Impact' of a book, a composite score achieved post-publication,\n",
    "using its attributes and metadata.\n",
    "\n",
    "* <font color=\"red\"> This is a minimum viable pipeline to keep it within scope of interview process <red/>"
   ]
  },
  {
   "cell_type": "code",
   "execution_count": 1,
   "metadata": {},
   "outputs": [],
   "source": [
    "import os\n",
    "import tomllib\n",
    "import pandas\n",
    "import utils\n",
    "import numpy\n",
    "\n",
    "CONFIG = tomllib.load(open(\"config.toml\", \"rb\"))[\"explore\"]\n",
    "WORKERS = os.cpu_count()\n",
    "DATA_CHUNKS = 80"
   ]
  },
  {
   "cell_type": "code",
   "execution_count": 2,
   "metadata": {},
   "outputs": [
    {
     "data": {
      "text/plain": [
       "Index(['Unnamed: 0', 'Title', 'description', 'authors', 'publisher',\n",
       "       'publishedDate', 'categories', 'Impact'],\n",
       "      dtype='object')"
      ]
     },
     "execution_count": 2,
     "metadata": {},
     "output_type": "execute_result"
    }
   ],
   "source": [
    "data = pandas.read_csv(\"books_task.csv\")\n",
    "data.columns"
   ]
  },
  {
   "cell_type": "code",
   "execution_count": 3,
   "metadata": {},
   "outputs": [
    {
     "data": {
      "text/plain": [
       "Index(['Title', 'description', 'authors', 'publisher', 'publishedDate',\n",
       "       'categories', 'Impact'],\n",
       "      dtype='object')"
      ]
     },
     "execution_count": 3,
     "metadata": {},
     "output_type": "execute_result"
    }
   ],
   "source": [
    "# dropping unnamed column\n",
    "data.drop(CONFIG['drop_columns'],axis=1,inplace=True)\n",
    "data.columns"
   ]
  },
  {
   "cell_type": "code",
   "execution_count": 4,
   "metadata": {},
   "outputs": [
    {
     "name": "stdout",
     "output_type": "stream",
     "text": [
      "missing descriptiton 0.09190190594273522\n"
     ]
    },
    {
     "data": {
      "text/plain": [
       "(0                                                       NaN\n",
       " 1         Philip Nel takes a fascinating look into the k...\n",
       " 2         This resource includes twelve principles in un...\n",
       " 3         Julia Thomas finds her life spinning out of co...\n",
       " 4         In The Church of Christ: A Biblical Ecclesiolo...\n",
       "                                 ...                        \n",
       " 138719    \"The Magic of the Soul, Applying Spiritual Pow...\n",
       " 138720    Autodesk Inventor 2017 Essentials Plus provide...\n",
       " 138721    During a school trip to Ellis Island, Dominick...\n",
       " 138722    Everyone in the village of Friedensdorf is hap...\n",
       " 138723    Alex-Li Tandem sells autographs. His business ...\n",
       " Name: description, Length: 138724, dtype: object,\n",
       " None)"
      ]
     },
     "execution_count": 4,
     "metadata": {},
     "output_type": "execute_result"
    }
   ],
   "source": [
    "data[\"description\"], print(f\"missing descriptiton {len(data['description'][data['description'].isnull()])/len(data)}\")"
   ]
  },
  {
   "cell_type": "markdown",
   "metadata": {},
   "source": [
    "There are description column missingg in the dataset. It can be handled as..\n",
    "* dropping, since it is less than 1%\n",
    "* filling with missing information tag, can be captured by the contextual embedding or a language model.\n",
    "* filling these values with public sources like goodReads, wikipedia etc.\n",
    "\n",
    "SAME IS ALSO APPLICABLE FOR \"AUTHOR\" AND \"PUBLISHED DATES\""
   ]
  },
  {
   "cell_type": "code",
   "execution_count": 5,
   "metadata": {},
   "outputs": [],
   "source": [
    "# filling missing information as a string\n",
    "data[\"description\"] = data[\"description\"].fillna(CONFIG[\"missing_string\"])"
   ]
  },
  {
   "cell_type": "code",
   "execution_count": 6,
   "metadata": {},
   "outputs": [
    {
     "data": {
      "text/plain": [
       "0                          ['Julie Strain']\n",
       "1                            ['Philip Nel']\n",
       "2                          ['David R. Ray']\n",
       "3                       ['Veronica Haddon']\n",
       "4                      ['Everett Ferguson']\n",
       "                        ...                \n",
       "138719               ['Patrick J. Harbula']\n",
       "138720    ['Daniel Banach', 'Travis Jones']\n",
       "138721                  ['Elvira Woodruff']\n",
       "138722                                  NaN\n",
       "138723                      ['Zadie Smith']\n",
       "Name: authors, Length: 138724, dtype: object"
      ]
     },
     "execution_count": 6,
     "metadata": {},
     "output_type": "execute_result"
    }
   ],
   "source": [
    "data[\"authors\"]"
   ]
  },
  {
   "cell_type": "markdown",
   "metadata": {},
   "source": [
    "* Considering that we are planning to use a Language model, we can simply remove the square brackets and the extra quotes from names\n",
    "* missing values can be handles in several way, but we will add imputation text since we are working with text model.\n",
    "* There is great potential for feature engineering here. adding columns for \"multi-authors\" like:  num_authors, avg_authors_impact, total_authors_publication\n",
    "* For single author, we can add a column for \"avg_historical_impact\" based on publishe_date."
   ]
  },
  {
   "cell_type": "code",
   "execution_count": 7,
   "metadata": {},
   "outputs": [
    {
     "data": {
      "text/plain": [
       "0                        Julie Strain\n",
       "1                          Philip Nel\n",
       "2                        David R. Ray\n",
       "3                     Veronica Haddon\n",
       "4                    Everett Ferguson\n",
       "                     ...             \n",
       "138719             Patrick J. Harbula\n",
       "138720    Daniel Banach, Travis Jones\n",
       "138721                Elvira Woodruff\n",
       "138722                      not found\n",
       "138723                    Zadie Smith\n",
       "Name: authors, Length: 138724, dtype: object"
      ]
     },
     "execution_count": 7,
     "metadata": {},
     "output_type": "execute_result"
    }
   ],
   "source": [
    "data[\"authors\"] = data[\"authors\"].fillna(CONFIG[\"missing_string\"])\n",
    "\n",
    "def clean_authors(author_list: str) -> str:\n",
    "    return author_list.replace(\"'\", \"\").replace(\"[\", \"\").replace(\"]\", \"\")\n",
    "\n",
    "#! Parallel MAP: not optimal since data too small\n",
    "# data[\"authors\"] = utils.df_parallel_map(clean_authors, data[\"authors\"], n_jobs=WORKERS, chunks=DATA_CHUNKS, action=\"cleaning authors\")\n",
    "\n",
    "data[\"authors\"] = data[\"authors\"].map(clean_authors)\n",
    "data[\"authors\"]\n"
   ]
  },
  {
   "cell_type": "code",
   "execution_count": 8,
   "metadata": {},
   "outputs": [
    {
     "name": "stdout",
     "output_type": "stream",
     "text": [
      "missing 0.0%\n"
     ]
    },
    {
     "data": {
      "text/plain": [
       "(0            Smithsonian Institution\n",
       " 1                          A&C Black\n",
       " 2                            OUP USA\n",
       " 3                          iUniverse\n",
       " 4         Wm. B. Eerdmans Publishing\n",
       "                      ...            \n",
       " 138719            Love & Logic Press\n",
       " 138720              SDC Publications\n",
       " 138721         Scholastic Paperbacks\n",
       " 138722    Wm. B. Eerdmans Publishing\n",
       " 138723                       Vintage\n",
       " Name: publisher, Length: 138724, dtype: object,\n",
       " None)"
      ]
     },
     "execution_count": 8,
     "metadata": {},
     "output_type": "execute_result"
    }
   ],
   "source": [
    "data[\"publisher\"], print(f'missing {(data[\"publisher\"].isna().sum() / len(data) * 100)}%')"
   ]
  },
  {
   "cell_type": "code",
   "execution_count": 9,
   "metadata": {},
   "outputs": [
    {
     "data": {
      "text/plain": [
       "publisher\n",
       "Tan Books & Pub               3635\n",
       "Simon and Schuster            3600\n",
       "Smithsonian Institution       3216\n",
       "Penguin                       2788\n",
       "Wm. B. Eerdmans Publishing    2563\n",
       "                              ... \n",
       "Rider                            1\n",
       "Robert Davies Pub                1\n",
       "Astrology Sight                  1\n",
       "McQueen Enterprises              1\n",
       "Torah Aura Prod                  1\n",
       "Name: count, Length: 12855, dtype: int64"
      ]
     },
     "execution_count": 9,
     "metadata": {},
     "output_type": "execute_result"
    }
   ],
   "source": [
    "data[\"publisher\"].value_counts()"
   ]
  },
  {
   "cell_type": "markdown",
   "metadata": {},
   "source": [
    "* since this is more like a caegory, wecan group the less frequent into a bucket to reduce cardinality. But there could be outliers hiding in there.\n",
    "* No preprocessing required in particular."
   ]
  },
  {
   "cell_type": "code",
   "execution_count": 10,
   "metadata": {},
   "outputs": [
    {
     "data": {
      "text/plain": [
       "publishedDate\n",
       "2000          3362\n",
       "2004          3218\n",
       "1999          3159\n",
       "2002          3110\n",
       "2003          3070\n",
       "              ... \n",
       "1981-12-18       1\n",
       "1969-11-15       1\n",
       "2000-03-05       1\n",
       "2004-07-24       1\n",
       "2007-08-26       1\n",
       "Name: count, Length: 10819, dtype: int64"
      ]
     },
     "execution_count": 10,
     "metadata": {},
     "output_type": "execute_result"
    }
   ],
   "source": [
    "data[\"publishedDate\"].value_counts()"
   ]
  },
  {
   "cell_type": "markdown",
   "metadata": {},
   "source": [
    "* we can potentially fetch incomplete/missing dates from the public sources.\n",
    "* for simplicity, I am only going to retain the years from this data."
   ]
  },
  {
   "cell_type": "code",
   "execution_count": 11,
   "metadata": {},
   "outputs": [
    {
     "data": {
      "text/plain": [
       "publishedDate\n",
       "2004     7196\n",
       "2005     6976\n",
       "2003     6794\n",
       "2002     6400\n",
       "2000     6083\n",
       "         ... \n",
       "1797        1\n",
       "1712        1\n",
       "1947*       1\n",
       "1814        1\n",
       "2014*       1\n",
       "Name: count, Length: 257, dtype: int64"
      ]
     },
     "execution_count": 11,
     "metadata": {},
     "output_type": "execute_result"
    }
   ],
   "source": [
    "data[\"publishedDate\"] = data[\"publishedDate\"].fillna(\"10\")\n",
    "\n",
    "def extract_year(date_str: str) -> str:\n",
    "    return date_str.split(\"-\")[0]\n",
    "\n",
    "data[\"publishedDate\"] = data[\"publishedDate\"].map(extract_year)\n",
    "data[\"publishedDate\"].value_counts()"
   ]
  },
  {
   "cell_type": "markdown",
   "metadata": {},
   "source": [
    "* presence of symbols like `*` and `?` could potetially be a disputed year of publication. Thes can be potentially investigated and create features out of it.\n",
    "* what is the potential effect of disputed year on the impact of the book?\n",
    "* dropping for simplicity."
   ]
  },
  {
   "cell_type": "code",
   "execution_count": 12,
   "metadata": {},
   "outputs": [
    {
     "data": {
      "text/plain": [
       "publishedDate\n",
       "2004    7196\n",
       "2005    6978\n",
       "2003    6794\n",
       "2002    6400\n",
       "2000    6084\n",
       "        ... \n",
       "1802       1\n",
       "1765       1\n",
       "1841       1\n",
       "1791       1\n",
       "1794       1\n",
       "Name: count, Length: 233, dtype: int64"
      ]
     },
     "execution_count": 12,
     "metadata": {},
     "output_type": "execute_result"
    }
   ],
   "source": [
    "# code to only retain numbers in a string\n",
    "def date_cleaner(string: str) -> str:\n",
    "    numbers =  ''.join(filter(str.isdigit, string))\n",
    "    if len(numbers) == 4:\n",
    "        return numbers\n",
    "    else:\n",
    "        return numpy.nan\n",
    "\n",
    "data[\"publishedDate\"] = data[\"publishedDate\"].map(date_cleaner)\n",
    "data[\"publishedDate\"].value_counts()"
   ]
  },
  {
   "cell_type": "code",
   "execution_count": 13,
   "metadata": {},
   "outputs": [
    {
     "data": {
      "text/plain": [
       "(categories\n",
       " ['Fiction']                      23419\n",
       " ['Religion']                      9459\n",
       " ['History']                       9330\n",
       " ['Juvenile Fiction']              6643\n",
       " ['Biography & Autobiography']     6324\n",
       "                                  ...  \n",
       " ['Christianity']                    79\n",
       " ['Young Adult Nonfiction']          79\n",
       " ['Railroads']                       78\n",
       " ['Brothers and sisters']            76\n",
       " ['Automobiles']                     74\n",
       " Name: count, Length: 100, dtype: int64,\n",
       " 0)"
      ]
     },
     "execution_count": 13,
     "metadata": {},
     "output_type": "execute_result"
    }
   ],
   "source": [
    "data[\"categories\"].value_counts(), len(data[\"categories\"][data[\"categories\"].isnull()])"
   ]
  },
  {
   "cell_type": "markdown",
   "metadata": {},
   "source": [
    "* we can simply remove the symbols and quotes from the string\n",
    "* We can potentially merge subset categories into super-set category. (e.g. \"Christianity\" and \"Judaism\" can be merged into \"Relegion\")"
   ]
  },
  {
   "cell_type": "code",
   "execution_count": 14,
   "metadata": {},
   "outputs": [
    {
     "data": {
      "text/plain": [
       "0           comics & graphic novels\n",
       "1         biography & autobiography\n",
       "2                          religion\n",
       "3                           fiction\n",
       "4                          religion\n",
       "                    ...            \n",
       "138719          body, mind & spirit\n",
       "138720                    computers\n",
       "138721             juvenile fiction\n",
       "138722             juvenile fiction\n",
       "138723                      fiction\n",
       "Name: categories, Length: 138724, dtype: object"
      ]
     },
     "execution_count": 14,
     "metadata": {},
     "output_type": "execute_result"
    }
   ],
   "source": [
    "def category_cleaner(category_string: str) -> str:\n",
    "    return category_string.replace(\"[\", \"\").replace(\"]\", \"\").replace(\"'\", \"\").lower()\n",
    "\n",
    "data[\"categories\"] = data[\"categories\"].map(category_cleaner)\n",
    "data[\"categories\"]"
   ]
  },
  {
   "cell_type": "code",
   "execution_count": 15,
   "metadata": {},
   "outputs": [
    {
     "data": {
      "text/plain": [
       "Index(['Title', 'description', 'authors', 'publisher', 'publishedDate',\n",
       "       'categories', 'Impact'],\n",
       "      dtype='object')"
      ]
     },
     "execution_count": 15,
     "metadata": {},
     "output_type": "execute_result"
    }
   ],
   "source": [
    "data.columns"
   ]
  },
  {
   "cell_type": "code",
   "execution_count": 16,
   "metadata": {},
   "outputs": [
    {
     "data": {
      "text/plain": [
       "<Axes: >"
      ]
     },
     "execution_count": 16,
     "metadata": {},
     "output_type": "execute_result"
    },
    {
     "data": {
      "image/png": "[encoded data removed]",
      "text/plain": [
       "<Figure size 640x480 with 1 Axes>"
      ]
     },
     "metadata": {},
     "output_type": "display_data"
    }
   ],
   "source": [
    "data[\"Impact\"].plot.box()"
   ]
  },
  {
   "cell_type": "markdown",
   "metadata": {},
   "source": [
    "* left skewed distribution, can be root transformed for simplification.\n",
    "* There can potentially be outliers/missing valies than can explain very-low or very-high values."
   ]
  },
  {
   "cell_type": "code",
   "execution_count": 18,
   "metadata": {},
   "outputs": [
    {
     "data": {
      "text/plain": [
       "<Axes: >"
      ]
     },
     "execution_count": 18,
     "metadata": {},
     "output_type": "execute_result"
    },
    {
     "data": {
      "image/png": "[encoded data removed]",
      "text/plain": [
       "<Figure size 640x480 with 1 Axes>"
      ]
     },
     "metadata": {},
     "output_type": "display_data"
    }
   ],
   "source": [
    "def impact_transform(num: float) -> float:\n",
    "    return num**(1/3)\n",
    "\n",
    "def impact_inverse_transform(num: float) -> float:\n",
    "    return num**2\n",
    "\n",
    "data[\"Impact_new\"] = data[\"Impact\"].map(impact_transform)\n",
    "data[\"Impact_new\"].plot.box()"
   ]
  },
  {
   "cell_type": "markdown",
   "metadata": {},
   "source": [
    "* simple transformations are going to help directly, this especially lower values require explaination via feature engineering."
   ]
  },
  {
   "cell_type": "code",
   "execution_count": 15,
   "metadata": {},
   "outputs": [],
   "source": [
    "from transformers import AutoModel, AutoTokenizer"
   ]
  },
  {
   "cell_type": "code",
   "execution_count": 16,
   "metadata": {},
   "outputs": [],
   "source": [
    "model = AutoModel.from_pretrained('distilbert-base-uncased')\n",
    "tokenizer = AutoTokenizer.from_pretrained('distilbert-base-uncased')\n",
    "# list(model.named_children())"
   ]
  },
  {
   "cell_type": "code",
   "execution_count": 41,
   "metadata": {},
   "outputs": [
    {
     "data": {
      "text/plain": [
       "{'input_ids': tensor([[  101,  7592,  1010,  2026,  3899,  2003, 10140,   102]]), 'attention_mask': tensor([[1, 1, 1, 1, 1, 1, 1, 1]])}"
      ]
     },
     "execution_count": 41,
     "metadata": {},
     "output_type": "execute_result"
    }
   ],
   "source": [
    "text = \"Hello, my dog is cute\"\n",
    "outs = tokenizer(text, return_tensors=\"pt\")\n",
    "outs"
   ]
  },
  {
   "cell_type": "code",
   "execution_count": 44,
   "metadata": {},
   "outputs": [],
   "source": [
    "model_out = model(**outs)"
   ]
  },
  {
   "cell_type": "code",
   "execution_count": 48,
   "metadata": {},
   "outputs": [
    {
     "data": {
      "text/plain": [
       "torch.Size([1, 8, 768])"
      ]
     },
     "execution_count": 48,
     "metadata": {},
     "output_type": "execute_result"
    }
   ],
   "source": [
    "model_out.last_hidden_state.shape"
   ]
  },
  {
   "cell_type": "code",
   "execution_count": 39,
   "metadata": {},
   "outputs": [
    {
     "ename": "TypeError",
     "evalue": "tuple indices must be integers or slices, not tuple",
     "output_type": "error",
     "traceback": [
      "\u001b[0;31m---------------------------------------------------------------------------\u001b[0m",
      "\u001b[0;31mTypeError\u001b[0m                                 Traceback (most recent call last)",
      "Cell \u001b[0;32mIn[39], line 1\u001b[0m\n\u001b[0;32m----> 1\u001b[0m \u001b[43mouts\u001b[49m\u001b[43m[\u001b[49m\u001b[38;5;241;43m0\u001b[39;49m\u001b[43m,\u001b[49m\u001b[38;5;241;43m0\u001b[39;49m\u001b[43m,\u001b[49m\u001b[43m:\u001b[49m\u001b[43m]\u001b[49m\u001b[38;5;241m.\u001b[39mview(\u001b[38;5;241m-\u001b[39m\u001b[38;5;241m1\u001b[39m,\u001b[38;5;241m768\u001b[39m)\n",
      "File \u001b[0;32m~/miniconda3/envs/highLevel/lib/python3.11/site-packages/transformers/utils/generic.py:433\u001b[0m, in \u001b[0;36mModelOutput.__getitem__\u001b[0;34m(self, k)\u001b[0m\n\u001b[1;32m    431\u001b[0m     \u001b[38;5;28;01mreturn\u001b[39;00m inner_dict[k]\n\u001b[1;32m    432\u001b[0m \u001b[38;5;28;01melse\u001b[39;00m:\n\u001b[0;32m--> 433\u001b[0m     \u001b[38;5;28;01mreturn\u001b[39;00m \u001b[38;5;28;43mself\u001b[39;49m\u001b[38;5;241;43m.\u001b[39;49m\u001b[43mto_tuple\u001b[49m\u001b[43m(\u001b[49m\u001b[43m)\u001b[49m\u001b[43m[\u001b[49m\u001b[43mk\u001b[49m\u001b[43m]\u001b[49m\n",
      "\u001b[0;31mTypeError\u001b[0m: tuple indices must be integers or slices, not tuple"
     ]
    }
   ],
   "source": []
  },
  {
   "cell_type": "code",
   "execution_count": null,
   "metadata": {},
   "outputs": [],
   "source": []
  }
 ],
 "metadata": {
  "kernelspec": {
   "display_name": "highLevel",
   "language": "python",
   "name": "python3"
  },
  "language_info": {
   "codemirror_mode": {
    "name": "ipython",
    "version": 3
   },
   "file_extension": ".py",
   "mimetype": "text/x-python",
   "name": "python",
   "nbconvert_exporter": "python",
   "pygments_lexer": "ipython3",
   "version": "3.11.11"
  }
 },
 "nbformat": 4,
 "nbformat_minor": 2
}
