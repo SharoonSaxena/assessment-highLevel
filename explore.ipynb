{
 "cells": [
  {
   "cell_type": "markdown",
   "metadata": {},
   "source": [
    "### Data Science Assignment\n",
    "**Objective**\n",
    "\n",
    "* Develop a model to predict the 'Impact' of a book, a composite score achieved post-publication,\n",
    "using its attributes and metadata.\n",
    "\n",
    "* <font color=\"red\"> This is a minimum viable pipeline to keep it within scope of interview process <red/>"
   ]
  },
  {
   "cell_type": "code",
   "execution_count": 1,
   "metadata": {},
   "outputs": [],
   "source": [
    "import os\n",
    "import tomllib\n",
    "import pandas\n",
    "import numpy\n",
    "from pandas import DataFrame, Series\n",
    "\n",
    "CONFIG = tomllib.load(open(\"config.toml\", \"rb\"))[\"preprocess\"]\n",
    "WORKERS = os.cpu_count()\n",
    "DATA_CHUNKS = 80"
   ]
  },
  {
   "cell_type": "code",
   "execution_count": 2,
   "metadata": {},
   "outputs": [
    {
     "data": {
      "text/plain": [
       "Index(['Unnamed: 0', 'Title', 'description', 'authors', 'publisher',\n",
       "       'publishedDate', 'categories', 'Impact'],\n",
       "      dtype='object')"
      ]
     },
     "execution_count": 2,
     "metadata": {},
     "output_type": "execute_result"
    }
   ],
   "source": [
    "data = pandas.read_csv(\"books_task.csv\")\n",
    "data.columns"
   ]
  },
  {
   "cell_type": "code",
   "execution_count": 3,
   "metadata": {},
   "outputs": [
    {
     "data": {
      "text/plain": [
       "Index(['Title', 'description', 'authors', 'publisher', 'publishedDate',\n",
       "       'categories', 'Impact'],\n",
       "      dtype='object')"
      ]
     },
     "execution_count": 3,
     "metadata": {},
     "output_type": "execute_result"
    }
   ],
   "source": [
    "# dropping unnamed column\n",
    "data.drop(CONFIG['drop_columns'],axis=1,inplace=True)\n",
    "data.columns"
   ]
  },
  {
   "cell_type": "code",
   "execution_count": 4,
   "metadata": {},
   "outputs": [
    {
     "name": "stdout",
     "output_type": "stream",
     "text": [
      "missing descriptiton 0.09190190594273522\n"
     ]
    },
    {
     "data": {
      "text/plain": [
       "(0                                                       NaN\n",
       " 1         Philip Nel takes a fascinating look into the k...\n",
       " 2         This resource includes twelve principles in un...\n",
       " 3         Julia Thomas finds her life spinning out of co...\n",
       " 4         In The Church of Christ: A Biblical Ecclesiolo...\n",
       "                                 ...                        \n",
       " 138719    \"The Magic of the Soul, Applying Spiritual Pow...\n",
       " 138720    Autodesk Inventor 2017 Essentials Plus provide...\n",
       " 138721    During a school trip to Ellis Island, Dominick...\n",
       " 138722    Everyone in the village of Friedensdorf is hap...\n",
       " 138723    Alex-Li Tandem sells autographs. His business ...\n",
       " Name: description, Length: 138724, dtype: object,\n",
       " None)"
      ]
     },
     "execution_count": 4,
     "metadata": {},
     "output_type": "execute_result"
    }
   ],
   "source": [
    "data[\"description\"], print(f\"missing descriptiton {len(data['description'][data['description'].isnull()])/len(data)}\")"
   ]
  },
  {
   "cell_type": "markdown",
   "metadata": {},
   "source": [
    "There are description column missingg in the dataset. It can be handled as..\n",
    "* filling with missing information tag, can be captured by the contextual embedding or a language model.\n",
    "* filling these values with public sources like goodReads, wikipedia etc.\n",
    "\n",
    "SAME IS ALSO APPLICABLE FOR \"AUTHOR\" AND \"PUBLISHED DATES\""
   ]
  },
  {
   "cell_type": "code",
   "execution_count": 5,
   "metadata": {},
   "outputs": [],
   "source": [
    "# filling missing information as a string\n",
    "data[\"description\"] = data[\"description\"].fillna(CONFIG[\"missing_string\"])"
   ]
  },
  {
   "cell_type": "code",
   "execution_count": 7,
   "metadata": {},
   "outputs": [
    {
     "data": {
      "text/plain": [
       "(0                          ['Julie Strain']\n",
       " 1                            ['Philip Nel']\n",
       " 2                          ['David R. Ray']\n",
       " 3                       ['Veronica Haddon']\n",
       " 4                      ['Everett Ferguson']\n",
       "                         ...                \n",
       " 138719               ['Patrick J. Harbula']\n",
       " 138720    ['Daniel Banach', 'Travis Jones']\n",
       " 138721                  ['Elvira Woodruff']\n",
       " 138722                                  NaN\n",
       " 138723                      ['Zadie Smith']\n",
       " Name: authors, Length: 138724, dtype: object,\n",
       " 0.019628903434157033)"
      ]
     },
     "execution_count": 7,
     "metadata": {},
     "output_type": "execute_result"
    }
   ],
   "source": [
    "data[\"authors\"], len(data[\"authors\"][data[\"authors\"].isnull()])/len(data)"
   ]
  },
  {
   "cell_type": "markdown",
   "metadata": {},
   "source": [
    "* Considering that we are planning to use a Language model, we can simply remove the square brackets and the extra quotes from names\n",
    "* missing values can be handles in several way, but we will add imputation text since we are working with text model.\n",
    "* There is great potential for feature engineering here. adding columns for \"multi-authors\" like:  num_authors, avg_authors_impact, total_authors_publication\n",
    "* For single author, we can add a column for \"avg_historical_impact\" based on publishe_date."
   ]
  },
  {
   "cell_type": "code",
   "execution_count": 7,
   "metadata": {},
   "outputs": [
    {
     "data": {
      "text/plain": [
       "0                           Julie Strain\n",
       "1                             Philip Nel\n",
       "2                           David R. Ray\n",
       "3                        Veronica Haddon\n",
       "4                       Everett Ferguson\n",
       "                       ...              \n",
       "138719                Patrick J. Harbula\n",
       "138720       Daniel Banach, Travis Jones\n",
       "138721                   Elvira Woodruff\n",
       "138722    missing! information not found\n",
       "138723                       Zadie Smith\n",
       "Name: authors, Length: 138724, dtype: object"
      ]
     },
     "execution_count": 7,
     "metadata": {},
     "output_type": "execute_result"
    }
   ],
   "source": [
    "data[\"authors\"] = data[\"authors\"].fillna(CONFIG[\"missing_string\"])\n",
    "\n",
    "def clean_authors(author_list: str) -> str:\n",
    "    return author_list.replace(\"'\", \"\").replace(\"[\", \"\").replace(\"]\", \"\")\n",
    "\n",
    "#! Parallel MAP: not optimal since data too small\n",
    "# data[\"authors\"] = utils.df_parallel_map(clean_authors, data[\"authors\"], n_jobs=WORKERS, chunks=DATA_CHUNKS, action=\"cleaning authors\")\n",
    "\n",
    "data[\"authors\"] = data[\"authors\"].map(clean_authors)\n",
    "data[\"authors\"]\n"
   ]
  },
  {
   "cell_type": "code",
   "execution_count": 8,
   "metadata": {},
   "outputs": [
    {
     "name": "stdout",
     "output_type": "stream",
     "text": [
      "missing 0.0%\n"
     ]
    },
    {
     "data": {
      "text/plain": [
       "(0            Smithsonian Institution\n",
       " 1                          A&C Black\n",
       " 2                            OUP USA\n",
       " 3                          iUniverse\n",
       " 4         Wm. B. Eerdmans Publishing\n",
       "                      ...            \n",
       " 138719            Love & Logic Press\n",
       " 138720              SDC Publications\n",
       " 138721         Scholastic Paperbacks\n",
       " 138722    Wm. B. Eerdmans Publishing\n",
       " 138723                       Vintage\n",
       " Name: publisher, Length: 138724, dtype: object,\n",
       " None)"
      ]
     },
     "execution_count": 8,
     "metadata": {},
     "output_type": "execute_result"
    }
   ],
   "source": [
    "data[\"publisher\"], print(f'missing {(data[\"publisher\"].isna().sum() / len(data) * 100)}%')"
   ]
  },
  {
   "cell_type": "code",
   "execution_count": 9,
   "metadata": {},
   "outputs": [
    {
     "data": {
      "text/plain": [
       "publisher\n",
       "Tan Books & Pub               3635\n",
       "Simon and Schuster            3600\n",
       "Smithsonian Institution       3216\n",
       "Penguin                       2788\n",
       "Wm. B. Eerdmans Publishing    2563\n",
       "                              ... \n",
       "Rider                            1\n",
       "Robert Davies Pub                1\n",
       "Astrology Sight                  1\n",
       "McQueen Enterprises              1\n",
       "Torah Aura Prod                  1\n",
       "Name: count, Length: 12855, dtype: int64"
      ]
     },
     "execution_count": 9,
     "metadata": {},
     "output_type": "execute_result"
    }
   ],
   "source": [
    "data[\"publisher\"].value_counts()"
   ]
  },
  {
   "cell_type": "markdown",
   "metadata": {},
   "source": [
    "* since this is more like a caegory, wecan group the less frequent into a bucket to reduce cardinality. But there could be outliers hiding in there.\n",
    "* No preprocessing required in particular."
   ]
  },
  {
   "cell_type": "code",
   "execution_count": 10,
   "metadata": {},
   "outputs": [
    {
     "data": {
      "text/plain": [
       "publishedDate\n",
       "2000          3362\n",
       "2004          3218\n",
       "1999          3159\n",
       "2002          3110\n",
       "2003          3070\n",
       "              ... \n",
       "1981-12-18       1\n",
       "1969-11-15       1\n",
       "2000-03-05       1\n",
       "2004-07-24       1\n",
       "2007-08-26       1\n",
       "Name: count, Length: 10819, dtype: int64"
      ]
     },
     "execution_count": 10,
     "metadata": {},
     "output_type": "execute_result"
    }
   ],
   "source": [
    "data[\"publishedDate\"].value_counts()"
   ]
  },
  {
   "cell_type": "markdown",
   "metadata": {},
   "source": [
    "* we can potentially fetch incomplete/missing dates from the public sources.\n",
    "* for simplicity, I am only going to retain the years from this data."
   ]
  },
  {
   "cell_type": "code",
   "execution_count": 11,
   "metadata": {},
   "outputs": [
    {
     "data": {
      "text/plain": [
       "publishedDate\n",
       "2004     7196\n",
       "2005     6976\n",
       "2003     6794\n",
       "2002     6400\n",
       "2000     6083\n",
       "         ... \n",
       "1797        1\n",
       "1712        1\n",
       "1947*       1\n",
       "1814        1\n",
       "2014*       1\n",
       "Name: count, Length: 257, dtype: int64"
      ]
     },
     "execution_count": 11,
     "metadata": {},
     "output_type": "execute_result"
    }
   ],
   "source": [
    "data[\"publishedDate\"] = data[\"publishedDate\"].fillna(\"10\")\n",
    "\n",
    "def extract_year(date_str: str) -> str:\n",
    "    return date_str.split(\"-\")[0]\n",
    "\n",
    "data[\"publishedDate\"] = data[\"publishedDate\"].map(extract_year)\n",
    "data[\"publishedDate\"].value_counts()"
   ]
  },
  {
   "cell_type": "markdown",
   "metadata": {},
   "source": [
    "* presence of symbols like `*` and `?` could potetially be a disputed year of publication. Thes can be potentially investigated and create features out of it.\n",
    "* what is the potential effect of disputed year on the impact of the book?\n",
    "* dropping for simplicity."
   ]
  },
  {
   "cell_type": "code",
   "execution_count": 12,
   "metadata": {},
   "outputs": [
    {
     "data": {
      "text/plain": [
       "publishedDate\n",
       "2004    7196\n",
       "2005    6978\n",
       "2003    6794\n",
       "2002    6400\n",
       "2000    6084\n",
       "        ... \n",
       "1802       1\n",
       "1765       1\n",
       "1841       1\n",
       "1791       1\n",
       "1794       1\n",
       "Name: count, Length: 233, dtype: int64"
      ]
     },
     "execution_count": 12,
     "metadata": {},
     "output_type": "execute_result"
    }
   ],
   "source": [
    "# code to only retain numbers in a string\n",
    "def date_cleaner(string: str) -> str:\n",
    "    numbers =  ''.join(filter(str.isdigit, string))\n",
    "    if len(numbers) == 4:\n",
    "        return numbers\n",
    "    else:\n",
    "        return numpy.nan\n",
    "\n",
    "data[\"publishedDate\"] = data[\"publishedDate\"].map(date_cleaner)\n",
    "data[\"publishedDate\"].value_counts()"
   ]
  },
  {
   "cell_type": "code",
   "execution_count": 13,
   "metadata": {},
   "outputs": [
    {
     "data": {
      "text/plain": [
       "(categories\n",
       " ['Fiction']                      23419\n",
       " ['Religion']                      9459\n",
       " ['History']                       9330\n",
       " ['Juvenile Fiction']              6643\n",
       " ['Biography & Autobiography']     6324\n",
       "                                  ...  \n",
       " ['Christianity']                    79\n",
       " ['Young Adult Nonfiction']          79\n",
       " ['Railroads']                       78\n",
       " ['Brothers and sisters']            76\n",
       " ['Automobiles']                     74\n",
       " Name: count, Length: 100, dtype: int64,\n",
       " 0)"
      ]
     },
     "execution_count": 13,
     "metadata": {},
     "output_type": "execute_result"
    }
   ],
   "source": [
    "data[\"categories\"].value_counts(), len(data[\"categories\"][data[\"categories\"].isnull()])"
   ]
  },
  {
   "cell_type": "markdown",
   "metadata": {},
   "source": [
    "* we can simply remove the symbols and quotes from the string\n",
    "* We can potentially merge subset categories into super-set category. (e.g. \"Christianity\" and \"Judaism\" can be merged into \"Relegion\")"
   ]
  },
  {
   "cell_type": "code",
   "execution_count": 14,
   "metadata": {},
   "outputs": [
    {
     "data": {
      "text/plain": [
       "0           comics & graphic novels\n",
       "1         biography & autobiography\n",
       "2                          religion\n",
       "3                           fiction\n",
       "4                          religion\n",
       "                    ...            \n",
       "138719          body, mind & spirit\n",
       "138720                    computers\n",
       "138721             juvenile fiction\n",
       "138722             juvenile fiction\n",
       "138723                      fiction\n",
       "Name: categories, Length: 138724, dtype: object"
      ]
     },
     "execution_count": 14,
     "metadata": {},
     "output_type": "execute_result"
    }
   ],
   "source": [
    "def category_cleaner(category_string: str) -> str:\n",
    "    return category_string.replace(\"[\", \"\").replace(\"]\", \"\").replace(\"'\", \"\").lower()\n",
    "\n",
    "data[\"categories\"] = data[\"categories\"].map(category_cleaner)\n",
    "data[\"categories\"]"
   ]
  },
  {
   "cell_type": "code",
   "execution_count": 15,
   "metadata": {},
   "outputs": [
    {
     "data": {
      "text/plain": [
       "Index(['Title', 'description', 'authors', 'publisher', 'publishedDate',\n",
       "       'categories', 'Impact'],\n",
       "      dtype='object')"
      ]
     },
     "execution_count": 15,
     "metadata": {},
     "output_type": "execute_result"
    }
   ],
   "source": [
    "data.columns"
   ]
  },
  {
   "cell_type": "code",
   "execution_count": 16,
   "metadata": {},
   "outputs": [
    {
     "data": {
      "text/plain": [
       "<Axes: >"
      ]
     },
     "execution_count": 16,
     "metadata": {},
     "output_type": "execute_result"
    },
    {
     "data": {
      "image/png": "[encoded data removed]",
      "text/plain": [
       "<Figure size 640x480 with 1 Axes>"
      ]
     },
     "metadata": {},
     "output_type": "display_data"
    }
   ],
   "source": [
    "data[\"Impact\"].plot.box()"
   ]
  },
  {
   "cell_type": "markdown",
   "metadata": {},
   "source": [
    "* left skewed distribution, can be root transformed for simplification.\n",
    "* There can potentially be outliers/missing valies than can explain very-low or very-high values."
   ]
  },
  {
   "cell_type": "code",
   "execution_count": 17,
   "metadata": {},
   "outputs": [
    {
     "data": {
      "text/plain": [
       "<Axes: >"
      ]
     },
     "execution_count": 17,
     "metadata": {},
     "output_type": "execute_result"
    },
    {
     "data": {
      "image/png": "[encoded data removed]",
      "text/plain": [
       "<Figure size 640x480 with 1 Axes>"
      ]
     },
     "metadata": {},
     "output_type": "display_data"
    }
   ],
   "source": [
    "def impact_transform(num: float) -> float:\n",
    "    return num**(1/3)\n",
    "\n",
    "def impact_inverse_transform(num: float) -> float:\n",
    "    return num**2\n",
    "\n",
    "data[\"Impact_new\"] = data[\"Impact\"].map(impact_transform)\n",
    "data[\"Impact_new\"].plot.box()"
   ]
  },
  {
   "cell_type": "markdown",
   "metadata": {},
   "source": [
    "* simple transformations are going to help directly, this especially lower values require explaination via feature engineering."
   ]
  },
  {
   "cell_type": "code",
   "execution_count": 18,
   "metadata": {},
   "outputs": [
    {
     "name": "stderr",
     "output_type": "stream",
     "text": [
      "/home/sharoon/miniconda3/envs/highLevel/lib/python3.11/site-packages/tqdm/auto.py:21: TqdmWarning: IProgress not found. Please update jupyter and ipywidgets. See https://ipywidgets.readthedocs.io/en/stable/user_install.html\n",
      "  from .autonotebook import tqdm as notebook_tqdm\n"
     ]
    }
   ],
   "source": [
    "from transformers import AutoModel, AutoTokenizer"
   ]
  },
  {
   "cell_type": "code",
   "execution_count": 19,
   "metadata": {},
   "outputs": [],
   "source": [
    "model = AutoModel.from_pretrained('distilbert-base-uncased')\n",
    "\n",
    "for param in model.parameters():\n",
    "    param.requires_grad = False\n",
    "\n",
    "tokenizer = AutoTokenizer.from_pretrained('distilbert-base-uncased')\n",
    "# list(model.named_children())"
   ]
  },
  {
   "cell_type": "code",
   "execution_count": 20,
   "metadata": {},
   "outputs": [
    {
     "data": {
      "text/plain": [
       "{'input_ids': tensor([[  101,  2516,  1011,  4522, 13120,  2015,  1997,  2942,  2554,  1012,\n",
       "          1025,  6412,  1011,  1996,  2801,  1997,  2942,  2554,  2038,  2146,\n",
       "          2042,  2430,  2000,  1996,  2530,  4314,  1011,  3537,  4535,  1010,\n",
       "          2073,  2009,  2038,  2042,  2464,  2004,  1037, 10232,  2609,  2005,\n",
       "          1996,  2458,  1998,  8463,  1997,  3937,  4314,  5300,  2107,  2004,\n",
       "          3265,  4071,  1010,  2591, 13994,  2964,  1010,  1998,  3537,  9068,\n",
       "          1012,  2023,  2338, 10592,  2129,  1037,  3677,  1997,  2060, 12962,\n",
       "          7443,  9375,  2942,  2554,  1012,  4406,  2087,  2913,  1997,  1996,\n",
       "          3395,  1010,  2029,  3579,  2006,  1037,  3327,  2555,  2030,  4535,\n",
       "          1010,  2009, 10592,  1037,  2846,  1997, 12962,  7443,  6524,  8280,\n",
       "          1999,  2028,  3872,  1024, 19297,  2964,  1010,  4187,  3399,  1010,\n",
       "         20050,  1010,  4314,  1041,  9692, 25691,  2964,  1010,  3019,  2375,\n",
       "          1010,  7988,  1010,  7025,  1010, 13725,  1010,  1998,  9530, 11263,\n",
       "         14483,  2964,  1012,  2009, 10592,  1996,  6698,  2000,  2029,  2122,\n",
       "          7443,  5993,  2030, 21090,  2006,  2129,  2000,  9375,  2942,  2554,\n",
       "          1005,  1055,  6537,  1998,  2129,  2000, 16157,  2049,  6666,  1998,\n",
       "          7386,  2015,  1012,  1037,  3528,  1997,  5182, 13010,  1998, 19555,\n",
       "          2015,  1997,  2122,  7443,  2556,  1999,  1011,  5995,  8993,  2015,\n",
       "          1997,  2129,  2122,  2536,  7443,  2228,  1997, 12962, 13994,  2964,\n",
       "          2306,  8384,  1010,  4851,  2129,  1037,  2554,  2323,  6869,  2000,\n",
       "          8906,  2426,  2049,  2372,  1012,  2362,  2027,  3965,  1037,  2147,\n",
       "          4138,  2007,  2434, 20062,  2006,  1037,  2898,  2846,  1997,  5739,\n",
       "          2055,  2029,  2210,  2038,  2042,  2517,  2000,  3058,  1012,  2019,\n",
       "          6581,  3225,  2391,  2005,  1037, 12596,  9615,  1997,  2942,  2554,\n",
       "          1010,  2023,  2338, 14730,  2008,  2096,  1996,  4145,  1997,  2942,\n",
       "          2554,  7940,  1999,  1996,  4314,  4535,  1010,  2009,  2003,  2855,\n",
       "          3352,  2019,  2590,  3579,  2005,  1037,  5621,  2892,  1011,  3451,\n",
       "          7982,  1012,  1999,  2804,  2000,  1996, 10195,  1010,  1996, 16884,\n",
       "          2024,  2745,  9484,  1010, 17000, 26048,  8873,  1010, 28779,  1041,\n",
       "          1012,  8840,  9335,  4801,  1010,  2957,  5506,  5054,  1010,  2745,\n",
       "          1037,  1012, 27123,  2099,  1010,  2745, 22190,  2389,  6968,  1010,\n",
       "          4776, 19087,  1010,  4205,  1038,  1012,  7367,  3669, 25494,  1010,\n",
       "         15146,  2197,  2962,  1010,  1998,  2745, 24547,  6290,  1012,  1025,\n",
       "          6048,  1011, 14072,  8477,  1010,  2097, 18712, 19968,  6799,  2050,\n",
       "          1025,  6674,  1011,  9173,  2118,  2811,  1025,  2405, 13701,  1011,\n",
       "         12609,  1025,  7236,  1011,  4695,  1025,   102,     0,     0,     0,\n",
       "             0,     0,     0,     0,     0,     0,     0,     0,     0,     0,\n",
       "             0,     0,     0,     0,     0,     0,     0,     0,     0,     0,\n",
       "             0,     0,     0,     0,     0,     0,     0,     0,     0,     0,\n",
       "             0,     0,     0,     0,     0,     0,     0,     0,     0,     0]]), 'attention_mask': tensor([[1, 1, 1, 1, 1, 1, 1, 1, 1, 1, 1, 1, 1, 1, 1, 1, 1, 1, 1, 1, 1, 1, 1, 1,\n",
       "         1, 1, 1, 1, 1, 1, 1, 1, 1, 1, 1, 1, 1, 1, 1, 1, 1, 1, 1, 1, 1, 1, 1, 1,\n",
       "         1, 1, 1, 1, 1, 1, 1, 1, 1, 1, 1, 1, 1, 1, 1, 1, 1, 1, 1, 1, 1, 1, 1, 1,\n",
       "         1, 1, 1, 1, 1, 1, 1, 1, 1, 1, 1, 1, 1, 1, 1, 1, 1, 1, 1, 1, 1, 1, 1, 1,\n",
       "         1, 1, 1, 1, 1, 1, 1, 1, 1, 1, 1, 1, 1, 1, 1, 1, 1, 1, 1, 1, 1, 1, 1, 1,\n",
       "         1, 1, 1, 1, 1, 1, 1, 1, 1, 1, 1, 1, 1, 1, 1, 1, 1, 1, 1, 1, 1, 1, 1, 1,\n",
       "         1, 1, 1, 1, 1, 1, 1, 1, 1, 1, 1, 1, 1, 1, 1, 1, 1, 1, 1, 1, 1, 1, 1, 1,\n",
       "         1, 1, 1, 1, 1, 1, 1, 1, 1, 1, 1, 1, 1, 1, 1, 1, 1, 1, 1, 1, 1, 1, 1, 1,\n",
       "         1, 1, 1, 1, 1, 1, 1, 1, 1, 1, 1, 1, 1, 1, 1, 1, 1, 1, 1, 1, 1, 1, 1, 1,\n",
       "         1, 1, 1, 1, 1, 1, 1, 1, 1, 1, 1, 1, 1, 1, 1, 1, 1, 1, 1, 1, 1, 1, 1, 1,\n",
       "         1, 1, 1, 1, 1, 1, 1, 1, 1, 1, 1, 1, 1, 1, 1, 1, 1, 1, 1, 1, 1, 1, 1, 1,\n",
       "         1, 1, 1, 1, 1, 1, 1, 1, 1, 1, 1, 1, 1, 1, 1, 1, 1, 1, 1, 1, 1, 1, 1, 1,\n",
       "         1, 1, 1, 1, 1, 1, 1, 1, 1, 1, 1, 1, 1, 1, 1, 1, 1, 1, 1, 1, 1, 1, 1, 1,\n",
       "         1, 1, 1, 1, 1, 1, 1, 1, 1, 1, 1, 1, 1, 1, 1, 1, 1, 1, 1, 1, 1, 1, 1, 1,\n",
       "         1, 1, 1, 1, 1, 1, 1, 1, 1, 1, 1, 1, 1, 1, 1, 1, 1, 1, 1, 1, 1, 0, 0, 0,\n",
       "         0, 0, 0, 0, 0, 0, 0, 0, 0, 0, 0, 0, 0, 0, 0, 0, 0, 0, 0, 0, 0, 0, 0, 0,\n",
       "         0, 0, 0, 0, 0, 0, 0, 0, 0, 0, 0, 0, 0, 0, 0, 0]])}"
      ]
     },
     "execution_count": 20,
     "metadata": {},
     "output_type": "execute_result"
    }
   ],
   "source": [
    "text = \"Title - Alternative Conceptions of Civil Society.; description - The idea of civil society has long been central to the Western liberal-democratic tradition, where it has been seen as a crucial site for the development and pursuit of basic liberal values such as individual freedom, social pluralism, and democratic citizenship. This book considers how a host of other ethical traditions define civil society. Unlike most studies of the subject, which focus on a particular region or tradition, it considers a range of ethical traditions rarely addressed in one volume: libertarianism, critical theory, feminism, liberal egalitarianism, natural law, Christianity, Islam, Judaism, and Confucianism. It considers the extent to which these traditions agree or disagree on how to define civil society's limits and how to evaluate its benefits and harms. A variety of distinguished advocates and interpreters of these traditions present in-depth explorations of how these various traditions think of ethical pluralism within societies, asking how a society should respond to diversity among its members. Together they produce a work rich with original insights on a wide range of subjects about which little has been written to date. An excellent starting point for a comparative ethics of civil society, this book concludes that while the concept of civil society originated in the liberal tradition, it is quickly becoming an important focus for a truly cross-cultural dialogue. In addition to the editors, the contributors are Michael Banner, Hasan Hanafi, Loren E. Lomasky, Richard Madsen, Michael A. Mosher, Michael Pakaluk, Anne Philips, Adam B. Seligman, Suzanne Last Stone, and Michael Walzer.; authors - Simone Chambers, Will Kymlicka; publisher - Princeton University Press; publishedDate - 2020; categories - philosophy;\"\n",
    "outs = tokenizer(text, truncation=True,\n",
    "            padding=\"max_length\",\n",
    "            max_length=400,\n",
    "            return_tensors='pt')\n",
    "outs"
   ]
  },
  {
   "cell_type": "code",
   "execution_count": 21,
   "metadata": {},
   "outputs": [],
   "source": [
    "model_out = model(**outs)"
   ]
  },
  {
   "cell_type": "code",
   "execution_count": 22,
   "metadata": {},
   "outputs": [
    {
     "data": {
      "text/plain": [
       "torch.Size([1, 400, 768])"
      ]
     },
     "execution_count": 22,
     "metadata": {},
     "output_type": "execute_result"
    }
   ],
   "source": [
    "model_out.last_hidden_state.shape"
   ]
  },
  {
   "cell_type": "code",
   "execution_count": 23,
   "metadata": {},
   "outputs": [],
   "source": [
    "def stringify_single(record: dict) -> str:\n",
    "    \"\"\"\n",
    "    Converts a dictionary record to a formatted string.\n",
    "\n",
    "    Args:\n",
    "        record (dict): Dictionary containing record fields\n",
    "\n",
    "    Returns:\n",
    "        str: Formatted string with key-value pairs\n",
    "    \"\"\"\n",
    "    string = \"\"\n",
    "    for key, value in record.items():\n",
    "        string += f\"{key} - {value}; \"\n",
    "    return string\n",
    "\n",
    "def stringify_df(df: DataFrame) -> list:\n",
    "    \"\"\"\n",
    "    Converts DataFrame records to list of formatted strings.\n",
    "\n",
    "    Args:\n",
    "        df (DataFrame): Input DataFrame\n",
    "\n",
    "    Returns:\n",
    "        list: List of formatted strings for each record\n",
    "    \"\"\"\n",
    "    records = df.to_dict(\"records\")\n",
    "    return [stringify_single(record) for record in records]"
   ]
  },
  {
   "cell_type": "code",
   "execution_count": 24,
   "metadata": {},
   "outputs": [],
   "source": [
    "string_data = stringify_df(data)"
   ]
  },
  {
   "cell_type": "code",
   "execution_count": 25,
   "metadata": {},
   "outputs": [
    {
     "data": {
      "text/plain": [
       "<Axes: >"
      ]
     },
     "execution_count": 25,
     "metadata": {},
     "output_type": "execute_result"
    },
    {
     "data": {
      "image/png": "[encoded data removed]",
      "text/plain": [
       "<Figure size 640x480 with 1 Axes>"
      ]
     },
     "metadata": {},
     "output_type": "display_data"
    }
   ],
   "source": [
    "Series([len(string.split()) for string in string_data]).plot.box()"
   ]
  },
  {
   "cell_type": "code",
   "execution_count": null,
   "metadata": {},
   "outputs": [],
   "source": []
  }
 ],
 "metadata": {
  "kernelspec": {
   "display_name": "highLevel",
   "language": "python",
   "name": "python3"
  },
  "language_info": {
   "codemirror_mode": {
    "name": "ipython",
    "version": 3
   },
   "file_extension": ".py",
   "mimetype": "text/x-python",
   "name": "python",
   "nbconvert_exporter": "python",
   "pygments_lexer": "ipython3",
   "version": "3.11.11"
  }
 },
 "nbformat": 4,
 "nbformat_minor": 2
}
